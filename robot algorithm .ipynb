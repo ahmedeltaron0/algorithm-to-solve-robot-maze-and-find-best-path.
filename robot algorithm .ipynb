{
 "cells": [
  {
   "cell_type": "markdown",
   "id": "3ca7ddd7",
   "metadata": {},
   "source": [
    "THIS IS  ROBOT ALGORITHM TO SOLVE A MAZE "
   ]
  },
  {
   "cell_type": "code",
   "execution_count": 1,
   "id": "5bdea64c",
   "metadata": {},
   "outputs": [
    {
     "name": "stdout",
     "output_type": "stream",
     "text": [
      "Requirement already satisfied: pyamaze in c:\\users\\el taron\\anaconda3\\lib\\site-packages (1.0.1)\n",
      "Note: you may need to restart the kernel to use updated packages.\n"
     ]
    }
   ],
   "source": [
    "pip install pyamaze"
   ]
  },
  {
   "cell_type": "code",
   "execution_count": 4,
   "id": "7877c179",
   "metadata": {},
   "outputs": [
    {
     "name": "stdout",
     "output_type": "stream",
     "text": [
      "WNNWSSWNWSWNNNESEWNWSSSENESENNESSENNNWWWNNWSWN\n"
     ]
    }
   ],
   "source": [
    "from pyamaze import maze,agent,COLOR,textLabel\n",
    "def RCW():\n",
    "    global direction\n",
    "    k = list(direction.keys())\n",
    "    v = list(direction.values())\n",
    "    v_rotated = [v[-1]]+v[:-1] \n",
    "    direction = dict(zip(k,v_rotated)) \n",
    "    \n",
    "    \n",
    "def RCCW():\n",
    "    global direction\n",
    "    k = list(direction.keys())\n",
    "    v = list(direction.values())\n",
    "    v_rotated = v[1:]+[v[0]]\n",
    "    direction = dict(zip(k,v_rotated)) \n",
    "\n",
    "\n",
    "def moveForward(cell):\n",
    "    if direction['forward']=='E':\n",
    "        return (cell[0], cell[1]+1), 'E'\n",
    "    if direction['forward']=='W':\n",
    "        return (cell[0], cell[1]-1), 'W'\n",
    "    if direction['forward']=='N':\n",
    "        return (cell[0]-1, cell[1]), 'N'\n",
    "    if direction['forward']=='S':\n",
    "        return (cell[0]+1, cell[1]), 'S'\n",
    "\n",
    "def wallFollower(m):\n",
    "    global direction\n",
    "    direction = {'forward':'N','left':'W','back':'S','right':'E'}\n",
    "    currCell = (m.rows,m.cols)\n",
    "    path = ''\n",
    "    while True:\n",
    "        if currCell == (1,1):\n",
    "            break\n",
    "        if m.maze_map[currCell][direction['left']]==0:\n",
    "            if m.maze_map[currCell][direction['forward']]==0:\n",
    "                RCW()\n",
    "            else:\n",
    "                currCell,d = moveForward(currCell)\n",
    "                path+=d\n",
    "        else:\n",
    "            RCCW()\n",
    "            currCell,d = moveForward(currCell)  \n",
    "            path+=d\n",
    "    path2=path\n",
    "    while 'EW' in path2 or 'WE' in path2 or 'NS' in path2 or 'SN' in path2:\n",
    "        path2= path2 .replace('EW','')\n",
    "        path2= path2 .replace('WE','')\n",
    "        path2= path2 .replace('NS','')\n",
    "        path2= path2 .replace('SN','')\n",
    "            \n",
    "    return path,path2\n",
    "\n",
    "    \n",
    "if __name__=='__main__':\n",
    "\n",
    "    myMaze = maze(6,6)\n",
    "    myMaze.CreateMaze()\n",
    "    \n",
    "    a=agent(myMaze,shape='arrow' , footprints=True)\n",
    "    b=agent(myMaze,shape='arrow' , footprints=True, color= COLOR.green)\n",
    "    path,path2 = wallFollower(myMaze)\n",
    "    myMaze.tracePath({a:path})\n",
    "    myMaze.tracePath({b:path2})\n",
    "    \n",
    "    print(path)\n",
    "\n",
    "    myMaze.run()"
   ]
  },
  {
   "cell_type": "code",
   "execution_count": 2,
   "id": "d0099c67",
   "metadata": {},
   "outputs": [
    {
     "name": "stdout",
     "output_type": "stream",
     "text": [
      "WWWWWWWWWWNNWSSWWWNNENNWSWWWSESENSSWENWNWNNSEEENEENSENNNESEEWSESESWENWWSSESENENNNWNNWWNWWNENNNWNWSWWSEEESWSSSSWSWWSWNWWWSESSSESWWWNWSNESENNWNWSWWNENWWNWSWSSSENNESSEESWWWWWWWNNNNNNNNNNENWNENWNNSSEEWSWSESENNENESENNWWNEENEENWWENSESSEEESWSSENSSENESSENNNNWSWNNNWWWNNWNWWSWNWSWSEESWWSSWNNWNENWN\n"
     ]
    }
   ],
   "source": [
    "from pyamaze import maze,agent,COLOR,textLabel\n",
    "def RCW():\n",
    "    global direction\n",
    "    k = list(direction.keys())\n",
    "    v = list(direction.values())\n",
    "    v_rotated = [v[-1]]+v[:-1] \n",
    "    direction = dict(zip(k,v_rotated)) \n",
    "    \n",
    "    \n",
    "def RCCW():\n",
    "    global direction\n",
    "    k = list(direction.keys())\n",
    "    v = list(direction.values())\n",
    "    v_rotated = v[1:]+[v[0]]\n",
    "    direction = dict(zip(k,v_rotated)) \n",
    "\n",
    "\n",
    "def moveForward(cell):\n",
    "    if direction['forward']=='E':\n",
    "        return (cell[0], cell[1]+1), 'E'\n",
    "    if direction['forward']=='W':\n",
    "        return (cell[0], cell[1]-1), 'W'\n",
    "    if direction['forward']=='N':\n",
    "        return (cell[0]-1, cell[1]), 'N'\n",
    "    if direction['forward']=='S':\n",
    "        return (cell[0]+1, cell[1]), 'S'\n",
    "\n",
    "def wallFollower(m):\n",
    "    global direction\n",
    "    direction = {'forward':'N','left':'W','back':'S','right':'E'}\n",
    "    currCell = (m.rows,m.cols)\n",
    "    path = ''\n",
    "    while True:\n",
    "        if currCell == (1,1):\n",
    "            break\n",
    "        if m.maze_map[currCell][direction['left']]==0:\n",
    "            if m.maze_map[currCell][direction['forward']]==0:\n",
    "                RCW()\n",
    "            else:\n",
    "                currCell,d = moveForward(currCell)\n",
    "                path+=d\n",
    "        else:\n",
    "            RCCW()\n",
    "            currCell,d = moveForward(currCell)  \n",
    "            path+=d\n",
    "    path2=path\n",
    "    while 'EW' in path2 or 'WE' in path2 or 'NS' in path2 or 'SN' in path2:\n",
    "        path2= path2 .replace('EW','')\n",
    "        path2= path2 .replace('WE','')\n",
    "        path2= path2 .replace('NS','')\n",
    "        path2= path2 .replace('SN','')\n",
    "            \n",
    "    return path,path2\n",
    "\n",
    "    \n",
    "if __name__=='__main__':\n",
    "\n",
    "    myMaze = maze(20,30)\n",
    "    myMaze.CreateMaze(loopPercent=20)\n",
    "    \n",
    "    #a=agent(myMaze,shape='arrow' , footprints=True)\n",
    "    b=agent(myMaze,shape='arrow' , footprints=True, color= COLOR.green)\n",
    "    path,path2 = wallFollower(myMaze)\n",
    "    #myMaze.tracePath({a:path})\n",
    "    myMaze.tracePath({b:path2})\n",
    "    \n",
    "    print(path)\n",
    "\n",
    "    myMaze.run()"
   ]
  },
  {
   "cell_type": "code",
   "execution_count": null,
   "id": "80c3e579",
   "metadata": {},
   "outputs": [],
   "source": []
  }
 ],
 "metadata": {
  "kernelspec": {
   "display_name": "Python 3 (ipykernel)",
   "language": "python",
   "name": "python3"
  },
  "language_info": {
   "codemirror_mode": {
    "name": "ipython",
    "version": 3
   },
   "file_extension": ".py",
   "mimetype": "text/x-python",
   "name": "python",
   "nbconvert_exporter": "python",
   "pygments_lexer": "ipython3",
   "version": "3.9.7"
  }
 },
 "nbformat": 4,
 "nbformat_minor": 5
}
